{
 "cells": [
  {
   "cell_type": "markdown",
   "metadata": {},
   "source": [
    "## Model Representation I\n",
    "\n",
    "Let's examine how we will represent a hypothesis function using neural networks. At a very simple level, neurons are basically computational units that take inputs (**dendrites**) as electrical inputs (called \"spikes\") what are channeled to outputs (**axons**). In our model, our dendrites are like the input features $x_1 ... x_n$, and the output is the result of our hypothesis function.\n",
    "\n",
    "In this model our $x_0$ input node is sometimes called the \"bias unit\". It is always equal to $1$.\n",
    "\n",
    "In neural networks, we use the same logistic function as in classification, $\\frac{1}{1 + e^{-\\theta^Tx}}$, yet we sometimes call it a sigmoid (logistic) **activation** function, our \"theta\" parameters are sometimes caleed \"weights\".\n",
    "\n",
    "Visually, a simplistic representation looks like:\n",
    "\n",
    "$$\n",
    "[ x_0 x_1 x_2 ] \\to [\\ ] \\to h_0(x)\n",
    "$$\n",
    "\n",
    "Our input nodes (layer 1), also known as the \"input layer\", go into another node (layer 2), which finally outputs the hypothesis function, known as the \"output layer\".\n",
    "\n",
    "We can have intermediate layers of nodes between the input and output layers called the \"hidden layers\".\n",
    "\n",
    "In this example, we label these intermediate or \"hidden\" layer nodes $a_0^2 ... a_n^2$ and call then \"activation units\".\n",
    "\n",
    "$$\n",
    "\\begin{align}\n",
    "& a_i^{(j)} = \\text{\"activation\" of unit i in layer j} \\\\\n",
    "& \\theta^{(j)} = \\text{matrix of weights controlling function mapping from layer j to layer j+1}\n",
    "\\end{align}\n",
    "$$\n",
    "\n",
    "If we had one hidden layer, it would look like:\n",
    "\n",
    "$$\n",
    "[ x_0 x_1 x_2] \\to \\big[ a_1^{(2)} a_2^{(2)} a_3^{(2)} \\big] \\to h_{\\theta}(x)\n",
    "$$"
   ]
  },
  {
   "cell_type": "code",
   "execution_count": null,
   "metadata": {},
   "outputs": [],
   "source": []
  }
 ],
 "metadata": {
  "kernelspec": {
   "display_name": "Python 3",
   "language": "python",
   "name": "python3"
  },
  "language_info": {
   "codemirror_mode": {
    "name": "ipython",
    "version": 3
   },
   "file_extension": ".py",
   "mimetype": "text/x-python",
   "name": "python",
   "nbconvert_exporter": "python",
   "pygments_lexer": "ipython3",
   "version": "3.7.6"
  }
 },
 "nbformat": 4,
 "nbformat_minor": 4
}
