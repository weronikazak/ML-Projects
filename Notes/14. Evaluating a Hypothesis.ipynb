{
 "cells": [
  {
   "cell_type": "markdown",
   "metadata": {},
   "source": [
    "## Evaluating a Hypothesis\n",
    "\n",
    "Once we have done some trouble shooting for errors in our predictions by:\n",
    "\n",
    "- Getting more training examples\n",
    "- Trying smaller sets of features\n",
    "- Trying additional features\n",
    "- Trying polynomial features\n",
    "- Increasing or decreasing $\\lambda$\n",
    "\n",
    "We can move on to evaluate our new hypothesis.\n",
    "\n",
    "A hypothesis may have a low error for the training examples, but still be inaccurate (because of overfitting). Thus, to evaluate a hypothesis, given a dataset of training examples, we can split up the data into two sets: a **training set** and a **test set**. Typically, the training set consists of 70% of your data and the test set is the remaining 30%.\n",
    "\n",
    "The new procedure using these two sets is then:\n",
    "\n",
    "1. Learn $\\Theta$ and minimize $J_{train}(\\theta)$ using the training set\n",
    "2. Compute the test set error $J_{test}(\\Theta)$\n",
    "\n"
   ]
  },
  {
   "cell_type": "markdown",
   "metadata": {},
   "source": [
    "##### The test set error\n",
    "\n",
    "1. For linear regression: $J_{test}(\\Theta) = \\frac{1}{2m_{test}} \\sum^{m_{test}}_{i=1}(h_{\\Theta}(x^{(i)}_{test}) - y^{(i)}_{test})^2$\n",
    "\n",
    "2. For clasification ~ Misclassification error (aka 0/1 misclassification error):\n",
    "\n",
    "$$\n",
    "err()\n",
    "$$"
   ]
  },
  {
   "cell_type": "code",
   "execution_count": null,
   "metadata": {},
   "outputs": [],
   "source": []
  }
 ],
 "metadata": {
  "kernelspec": {
   "display_name": "Python 3",
   "language": "python",
   "name": "python3"
  },
  "language_info": {
   "codemirror_mode": {
    "name": "ipython",
    "version": 3
   },
   "file_extension": ".py",
   "mimetype": "text/x-python",
   "name": "python",
   "nbconvert_exporter": "python",
   "pygments_lexer": "ipython3",
   "version": "3.7.6"
  }
 },
 "nbformat": 4,
 "nbformat_minor": 4
}
