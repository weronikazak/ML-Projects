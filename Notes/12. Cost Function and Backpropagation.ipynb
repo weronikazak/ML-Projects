{
 "cells": [
  {
   "cell_type": "markdown",
   "metadata": {},
   "source": [
    "## Cost Function\n",
    "\n",
    "Let's first define a few variable that we will need to use:\n",
    "- $L$ - total number of layers in the network\n",
    "- $s_l$ - number of units (not counting bias unit) in layer $l$\n",
    "- $K$ - number of output units/classes\n",
    "\n",
    "Recall that in neural networks, we may have many output nodes. We denote $h_{\\Theta}(x)_k$ as being a hypothesis that results in the $k^{th}$ output. Our cost function for neural networks is ging to be a generalization of the one we used for logistic regression. Recall that the cost function for regularized logistic regression was:\n",
    "\n",
    "$$\n",
    "J(\\theta) = -\\frac{1}{m} \\sum^m_{j=1} \n",
    "\\begin{bmatrix}\n",
    "    y^{(i)} \\text{log}(h_{\\theta}(x^{(i)})) + (1 - y^{(i)}) \\text{log}(1 - h_{\\theta}(x^{(i)}))\n",
    "\\end{bmatrix}\n",
    "+ \\frac{\\lambda}{2m} \\sum^n_{j=1} \\theta^2_j\n",
    "$$"
   ]
  },
  {
   "cell_type": "markdown",
   "metadata": {},
   "source": [
    "For neural networks, it is going to be slightly more complicated:\n",
    "\n",
    "$$\n",
    "J(\\Theta) = -frac{1}{m} \\sum^m_{i=1} \\sum^K_{k=1}\n",
    "\\begin{bmatrix}\n",
    "y^{(i)}_k \\text{log}((h_{\\Theta}(x^{(i)}))_k) + (1 - y^{(i)}_k)\n",
    "\\text{log}(1 - (h_{\\Theta}(x^{(i)}))_k)\n",
    "\\end{bmatrix}\n",
    "+ \\frac{\\lambda}{2m} \\sum^{L-1}_{l=1} \\sum^{s_l}_{i=1} \\sum^{s_l+1}_{j=1}\n",
    "(\\Theta^{(l)}_{j, i})^2\n",
    "$$\n",
    "\n",
    "We have added a few nested summations to account for our multiple output nodes. In the first part of this equation, before the square brackets, we have added an additional nested summation, that loops through the number of output nodes.\n",
    "\n",
    "In the regularization part, after the square brackets, we must account for multiple thata matrices.\n",
    "\n",
    "The number of columns in our current theta matrix is equal to the number of nodes in our current layer (including the bias unit). The number of rows in our current theta matrix is equal to the number of nodes in the next layer (excluding the bias unit). As before with logistic regression, we square every term.\n",
    "\n",
    "Note:\n",
    "- the double sum simply adds up the logitic regression costs calculated for each cell in the output layer\n",
    "- the triple sum simplu adds up the squares of all the individual $\\Theta$s in the entire network.\n",
    "- the $i$ in the triple sum does **not** refer to training example $i$."
   ]
  },
  {
   "cell_type": "code",
   "execution_count": null,
   "metadata": {},
   "outputs": [],
   "source": []
  }
 ],
 "metadata": {
  "kernelspec": {
   "display_name": "Python 3",
   "language": "python",
   "name": "python3"
  },
  "language_info": {
   "codemirror_mode": {
    "name": "ipython",
    "version": 3
   },
   "file_extension": ".py",
   "mimetype": "text/x-python",
   "name": "python",
   "nbconvert_exporter": "python",
   "pygments_lexer": "ipython3",
   "version": "3.7.6"
  }
 },
 "nbformat": 4,
 "nbformat_minor": 4
}
