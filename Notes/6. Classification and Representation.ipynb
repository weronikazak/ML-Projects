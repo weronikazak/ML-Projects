{
 "cells": [
  {
   "cell_type": "markdown",
   "metadata": {},
   "source": [
    "## Classification\n",
    "\n",
    "To attempt classification, one methof is to use linear regression and map all predictions greater than $0.5$ as a $1$ and all less than $0.5$ as a $0$. However, this method doesn't work well because classification is not actually a linear function.\n",
    "\n",
    "The classificaion problem is just like the regression problem, except that the values we now want to predict take on only a small number of discrete values.\n",
    "\n",
    "For now, we will focus on the **binary classification preoblem** in which $y$ can take only two values, $0$ and $1$. (Most of what we say here will also generalize to the multiple-class case.)\n",
    "\n",
    "For instance, if we are trying to build  spam classifier for email, then $x^{(i)}$ may be some features of a piece of email, and $y$ may be $1$ if it is a piece of spam mail, and $0$ otherwise.\n",
    "\n",
    "Hence $y \\in \\{ 0, 1 \\}$. $0$ is also called the negative class, and $1$ the positive class, and they are sometimes also denoted by the symbols \"-\" and \"+\". Given $x^{(i)}$, the corresponding $y^{(i)}$ is also called the label for the training example."
   ]
  },
  {
   "attachments": {
    "image.png": {
     "image/png": "[encoded data removed]"
    }
   },
   "cell_type": "markdown",
   "metadata": {},
   "source": [
    "## Hypothesis Representation\n",
    "\n",
    "We could approach the classification problem ignoring the fact that $y$ is discrete-values, and use our old linear regression algorithm to try to predict $y$ given $x$. However, it is easy to construct examples where this method performs very poorly. Intuitivelt, it alo doesn't make sense for $h_{\\theta}(x)$ to take values larger tha $1$ or smaller than $0$ when we know that $y \\in \\{ 0, 1 \\}$.\n",
    "\n",
    "To fix this, let's change the form for our hypothesis $h_{\\theta}(x)$ to satisfy $0 \\ge h_{\\theta}(x) \\ge 1$. This is accomplished by plugging $\\theta^Tx$ into the Logistic Function.\n",
    "\n",
    "Our new form uses the *Sigmoid Function*, also called the *Logistic Function*:\n",
    "\n",
    "$$\n",
    "h_{\\theta}(x) = g(\\theta^Tx)\n",
    "\\\\\n",
    "z = \\theta^Tx\n",
    "\\\\\n",
    "g(z) = \\frac{1}{1+ e^{-z}}\n",
    "$$\n",
    "\n",
    "The following image shows us what the sigmoid function looks like:\n",
    "\n",
    "![image.png](attachment:image.png)"
   ]
  },
  {
   "cell_type": "markdown",
   "metadata": {},
   "source": [
    "The function $g(z)$ shown here maps any real number to the $(0, 1)$ interval, making it useful for transforming an arbitrary-values function into a function better suited for classification.\n",
    "\n",
    "$h_{\\theta}(x)$ will give us the **probability** that our input is $1$.\n",
    "\n",
    "For example, $h_{\\theta}(x) = 0.7$ gives us a probability of %70%% that our output is $1$. Our probability that our prediction is $0$ is just the complement of our probability that it is 1 (e.g, if probability that it is $1$ is $70%$, then the probability that it is $0$ is $30%$).\n",
    "\n",
    "$$\n",
    "h_{\\theta}(x) = P(y = 1 | x; 0) = 1 - P(y = 0 | x; 0)\n",
    "\\\\\n",
    "P(y = 0 | x; 0) + P(y = 1 | x; 0) = 1\n",
    "$$"
   ]
  },
  {
   "cell_type": "markdown",
   "metadata": {},
   "source": [
    "## Decision Boundary\n",
    "\n",
    "In order to get our discrete $0$ or $1$ classification, we can translate the output of the hypothesis function as follows:\n",
    "\n",
    "$$\n",
    "h_{\\theta} \\ge 0.5 \\to y = 1\n",
    "\\\\\n",
    "h_{\\theta} \\le 0.5 \\to y = 0\n",
    "$$\n",
    "\n",
    "The way our logistic function $g$ behaves is that when its output is greater than or equal to zero, its output is greater than or equal $0.5$:\n",
    "\n",
    "$$\n",
    "g(z) \\ge 0.5\n",
    "\\\\\n",
    "when \\quad z \\ge 0\n",
    "$$"
   ]
  },
  {
   "cell_type": "markdown",
   "metadata": {},
   "source": [
    "Remember:\n",
    "\n",
    "$$\n",
    "z = 0, \\quad e^0 \\Rightarrow g(z) = \\frac{1}{2}\n",
    "\\\\\n",
    "z \\to \\infty, \\quad e^{-\\infty} \\to 0 \\Rightarrow g(z) = 1\n",
    "\\\\\n",
    "z \\to -\\infty, \\quad e^{\\infty} \\to \\infty \\Rightarrow g(z) = 0\n",
    "$$"
   ]
  },
  {
   "cell_type": "markdown",
   "metadata": {},
   "source": [
    "So if our input to $g$ is $\\theta^TX$, then that means:\n",
    "\n",
    "$$\n",
    "h_{\\theta}(x) = g(\\theta^Tx) \\ge 0.5\n",
    "\\\\\n",
    "when \\quad \\theta^Tx \\ge 0\n",
    "$$\n",
    "\n",
    "From these statements we can now say:\n",
    "\n",
    "$$\n",
    "\\theta^Tx \\ge 0 \\Leftarrow y = 1\n",
    "\\\\\n",
    "\\theta^Tx < 0 \\Leftarrow y = 0\n",
    "$$"
   ]
  },
  {
   "cell_type": "markdown",
   "metadata": {},
   "source": [
    "The **decision boundary** is the line that separates the area where $y = 0$ and where $y = 1$. It is created by our hypothesis function.\n",
    "\n",
    "Example:\n",
    "\n",
    "$$\n",
    "\\theta = \\begin{bmatrix}\n",
    "           5 \\\\\n",
    "           -1 \\\\\n",
    "           0\n",
    "         \\end{bmatrix}\n",
    "\\\\\n",
    "y = 1 \\quad if \\quad 5 + (-1)x_1 + 0x_2 \\ge 0\n",
    "\\\\\n",
    "5 - x_1 \\ge 0\n",
    "\\\\\n",
    "-x_1 \\ge -5\n",
    "\\\\\n",
    "x_1 \\le 5\n",
    "$$\n",
    "\n",
    "In this case, our decision boundary is a straight vertical line placed on the graph, where x_1 = 5, and everything to the left of that denotes $y = 1$, while everything to the right denotes $y = 0$.\n",
    "\n",
    "Again, the input to the sigmoid function $g(z)$ (e.g. $\\theta^TX$ deosn't need to be linear, and could be a function that describes a circle (e.g. $z = \\theta_0 + \\theta_1x_1^2 + \\theta_2x_2^2 $ or any shape to fit our data."
   ]
  },
  {
   "cell_type": "code",
   "execution_count": null,
   "metadata": {},
   "outputs": [],
   "source": []
  }
 ],
 "metadata": {
  "kernelspec": {
   "display_name": "Python 3",
   "language": "python",
   "name": "python3"
  },
  "language_info": {
   "codemirror_mode": {
    "name": "ipython",
    "version": 3
   },
   "file_extension": ".py",
   "mimetype": "text/x-python",
   "name": "python",
   "nbconvert_exporter": "python",
   "pygments_lexer": "ipython3",
   "version": "3.7.6"
  }
 },
 "nbformat": 4,
 "nbformat_minor": 4
}
