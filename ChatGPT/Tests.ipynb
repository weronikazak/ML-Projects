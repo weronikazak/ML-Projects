{
 "cells": [
  {
   "cell_type": "code",
   "execution_count": 3,
   "id": "a03a38d0",
   "metadata": {},
   "outputs": [],
   "source": [
    "import openai\n",
    "\n",
    "openai.api_key = open('key.txt', 'r').read().strip('\\n')"
   ]
  },
  {
   "cell_type": "code",
   "execution_count": 5,
   "id": "b8461941",
   "metadata": {},
   "outputs": [
    {
     "name": "stdout",
     "output_type": "stream",
     "text": [
      "{\n",
      "  \"choices\": [\n",
      "    {\n",
      "      \"finish_reason\": \"stop\",\n",
      "      \"index\": 0,\n",
      "      \"message\": {\n",
      "        \"content\": \"\\n\\nThe circumference of the moon is approximately 10,921 km.\",\n",
      "        \"role\": \"assistant\"\n",
      "      }\n",
      "    }\n",
      "  ],\n",
      "  \"created\": 1678610606,\n",
      "  \"id\": \"chatcmpl-6tBaY5AYGwT5YWzpscd81crduR2ge\",\n",
      "  \"model\": \"gpt-3.5-turbo-0301\",\n",
      "  \"object\": \"chat.completion\",\n",
      "  \"usage\": {\n",
      "    \"completion_tokens\": 15,\n",
      "    \"prompt_tokens\": 17,\n",
      "    \"total_tokens\": 32\n",
      "  }\n",
      "}\n"
     ]
    }
   ],
   "source": [
    "completion = openai.ChatCompletion.create(\n",
    "    model=\"gpt-3.5-turbo\",\n",
    "    messages=[{\"role\": \"user\", \"content\":\"What is the circumference of the moon in km?\"}]\n",
    ")\n",
    "print(completion)"
   ]
  },
  {
   "cell_type": "code",
   "execution_count": 9,
   "id": "14e12c4c",
   "metadata": {},
   "outputs": [
    {
     "name": "stdout",
     "output_type": "stream",
     "text": [
      "\n",
      "\n",
      "The circumference of the moon is approximately 10,921 km.\n"
     ]
    }
   ],
   "source": [
    "reply_content = completion['choices'][0]['message']['content']\n",
    "print(reply_content)"
   ]
  },
  {
   "cell_type": "code",
   "execution_count": 10,
   "id": "19c1fa48",
   "metadata": {},
   "outputs": [
    {
     "name": "stdout",
     "output_type": "stream",
     "text": [
      "> What is the circumference of the moon in km?\n",
      "User's input was What is the circumference of the moon in km?\n"
     ]
    }
   ],
   "source": [
    "message_history = []\n",
    "user_input = input('> ')\n",
    "\n",
    "print(\"User's input was\", user_input)"
   ]
  },
  {
   "cell_type": "code",
   "execution_count": 11,
   "id": "3299a056",
   "metadata": {},
   "outputs": [],
   "source": [
    "message_history.append({\"role\":\"user\", \"content\":user_input})"
   ]
  },
  {
   "cell_type": "code",
   "execution_count": 13,
   "id": "2f2e91ed",
   "metadata": {},
   "outputs": [
    {
     "name": "stdout",
     "output_type": "stream",
     "text": [
      "\n",
      "\n",
      "The circumference of the moon is approximately 10,921 km (6,783 miles).\n"
     ]
    }
   ],
   "source": [
    "completion = openai.ChatCompletion.create(\n",
    "    model=\"gpt-3.5-turbo\",\n",
    "    messages=message_history\n",
    ")\n",
    "reply_content = completion['choices'][0]['message']['content']\n",
    "print(reply_content)"
   ]
  },
  {
   "cell_type": "code",
   "execution_count": 14,
   "id": "05cf0ba8",
   "metadata": {},
   "outputs": [],
   "source": [
    "message_history.append({\"role\":\"assistant\", \"content\":reply_content})"
   ]
  },
  {
   "cell_type": "code",
   "execution_count": 15,
   "id": "c969ba21",
   "metadata": {},
   "outputs": [
    {
     "name": "stdout",
     "output_type": "stream",
     "text": [
      "> What moon is that in reference to?\n",
      "User's input was What moon is that in reference to?\n",
      "\n",
      "I apologize for the confusion. The measurement I provided is the rough circumference of Earth's moon. There are other moons in our solar system that vary in size and shape, with their own unique circumferences.\n"
     ]
    }
   ],
   "source": [
    "user_input = input('> ')\n",
    "print(\"User's input was\", user_input)\n",
    "print()\n",
    "message_history.append({\"role\":\"user\", \"content\":user_input})\n",
    "completion = openai.ChatCompletion.create(\n",
    "    model=\"gpt-3.5-turbo\",\n",
    "    messages=message_history\n",
    ")\n",
    "reply_content = completion['choices'][0]['message']['content']\n",
    "print(reply_content)"
   ]
  },
  {
   "cell_type": "code",
   "execution_count": null,
   "id": "f5aaa4fa",
   "metadata": {},
   "outputs": [
    {
     "name": "stdout",
     "output_type": "stream",
     "text": [
      "> What is the norm for a woman\n",
      "Users input was What is the norm for a woman\n",
      "\n",
      "\n",
      "\n",
      "As an AI language model, I cannot give a general answer to this question as the concept of \"norm\" is subjective and varies depending on different cultures, societies, and historical periods. Instead of defining a norm for a woman, it is essential to recognize and respect the uniqueness and diversity of individuals and their characteristics, including gender. Moreover, gender norms and stereotypes could lead to discrimination and marginalization of individuals with different gender expressions or identities. It is crucial to promote equality, inclusive behaviors, and cultural diversity, recognizing the different ways in which individuals contribute to our society.\n",
      "\n"
     ]
    }
   ],
   "source": [
    "message_history = []\n",
    "\n",
    "def chat(inp, role=\"user\"):\n",
    "    message_history.append({\"role\": role, \"content\": inp})\n",
    "    completion = openai.ChatCompletion.create(\n",
    "        model=\"gpt-3.5-turbo\",\n",
    "        messages=message_history\n",
    "    )\n",
    "    reply_content = completion['choices'][0]['message']['content']\n",
    "    print(reply_content)\n",
    "    message_history.append({\"role\": \"assistant\", \"content\": reply_content})\n",
    "    return reply_content\n",
    "\n",
    "for i in range(2):\n",
    "    user_input=input('> ')\n",
    "    print('Users input was', user_input)\n",
    "    print()\n",
    "    chat(user_input)\n",
    "    print()"
   ]
  },
  {
   "cell_type": "code",
   "execution_count": null,
   "id": "fe7a027d",
   "metadata": {},
   "outputs": [],
   "source": []
  }
 ],
 "metadata": {
  "kernelspec": {
   "display_name": "Python 3 (ipykernel)",
   "language": "python",
   "name": "python3"
  },
  "language_info": {
   "codemirror_mode": {
    "name": "ipython",
    "version": 3
   },
   "file_extension": ".py",
   "mimetype": "text/x-python",
   "name": "python",
   "nbconvert_exporter": "python",
   "pygments_lexer": "ipython3",
   "version": "3.7.9"
  }
 },
 "nbformat": 4,
 "nbformat_minor": 5
}
