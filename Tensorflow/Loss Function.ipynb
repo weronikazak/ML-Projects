{
 "cells": [
  {
   "cell_type": "markdown",
   "metadata": {},
   "source": [
    "https://machinelearningmastery.com/loss-and-loss-functions-for-training-deep-learning-neural-networks/"
   ]
  },
  {
   "cell_type": "markdown",
   "metadata": {},
   "source": [
    "## What Loss Function to Use?"
   ]
  },
  {
   "cell_type": "markdown",
   "metadata": {},
   "source": [
    "#### Regression Problem\n",
    "\n",
    "- Output Layer Configuration - one node with a linear activation unit.\n",
    "\n",
    "- Loss Function - Mean Squared Error (MSE)"
   ]
  },
  {
   "cell_type": "code",
   "execution_count": 3,
   "metadata": {},
   "outputs": [],
   "source": [
    "def mean_squared_error(actual, predicted):\n",
    "    sum_square_error = 0.0\n",
    "    for i in range(len(actual)):\n",
    "        sum_square_error += (actual[i] - predicted[i])**2.0\n",
    "    mean_square_error = 1.0 / len(actual)\n",
    "    return mean_square_error"
   ]
  },
  {
   "cell_type": "markdown",
   "metadata": {},
   "source": [
    "#### Binary Classification Problem\n",
    "\n",
    "- Output Layer - one node with a sigmoid activation unit\n",
    "\n",
    "- Loss function - cross-entropy (logarithmic loss)"
   ]
  },
  {
   "cell_type": "code",
   "execution_count": 4,
   "metadata": {},
   "outputs": [],
   "source": [
    "def binary_cross_entropy(actual, predicted):\n",
    "    sum_score = 0.0\n",
    "    for i in range(len(actual)):\n",
    "        sum_score += actual[i] * log(1e-15 + predicted[i])\n",
    "    mean_sum_score = 1.0 / len(actual) * sum_score\n",
    "    return mean_sum_score"
   ]
  },
  {
   "cell_type": "markdown",
   "metadata": {},
   "source": [
    "#### Multiclass Classification Problem\n",
    "- Output Layer: - one node for each class using the softmax activation function\n",
    "- Loss function: - cross-entropy (logarithmic loss)"
   ]
  },
  {
   "cell_type": "code",
   "execution_count": 5,
   "metadata": {},
   "outputs": [],
   "source": [
    "def categorical_cross_entropy(actual, predicted):\n",
    "    sum_score = 0.0\n",
    "    for i in range(len(actual)):\n",
    "        for j in range(len(actual)):\n",
    "            sum_score += actual[i][j] * log(1e-15 + predicted[i][j])\n",
    "        mean_sum_scre = 1.0 / len(actual) * sum_score\n",
    "        return -mean_sum_score"
   ]
  },
  {
   "cell_type": "markdown",
   "metadata": {},
   "source": [
    "Cross-entropy loss is often simply referred to as “cross-entropy,” “logarithmic loss,” “logistic loss,” or “log loss” for short."
   ]
  },
  {
   "cell_type": "code",
   "execution_count": null,
   "metadata": {},
   "outputs": [],
   "source": []
  }
 ],
 "metadata": {
  "kernelspec": {
   "display_name": "Python 3",
   "language": "python",
   "name": "python3"
  },
  "language_info": {
   "codemirror_mode": {
    "name": "ipython",
    "version": 3
   },
   "file_extension": ".py",
   "mimetype": "text/x-python",
   "name": "python",
   "nbconvert_exporter": "python",
   "pygments_lexer": "ipython3",
   "version": "3.7.6"
  }
 },
 "nbformat": 4,
 "nbformat_minor": 4
}
