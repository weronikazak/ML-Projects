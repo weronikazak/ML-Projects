{
 "cells": [
  {
   "cell_type": "code",
   "execution_count": 1,
   "metadata": {},
   "outputs": [],
   "source": [
    "import re\n",
    "import nltk\n",
    "import numpy as np\n",
    "import pandas as pd\n",
    "import tensorflow as tf\n",
    "\n",
    "from nltk.corpus import stopwords\n",
    "from nltk.stem.porter import PorterStemmer\n",
    "from tensorflow.keras.models import Sequential\n",
    "from sklearn.model_selection import train_test_split\n",
    "from tensorflow.keras.preprocessing.text import one_hot\n",
    "from sklearn.metrics import confusion_matrix, accuracy_score\n",
    "from tensorflow.keras.preprocessing.sequence import pad_sequences\n",
    "from tensorflow.keras.layers import Embedding, LSTM, Dense, Dropout"
   ]
  },
  {
   "cell_type": "code",
   "execution_count": 2,
   "metadata": {},
   "outputs": [
    {
     "name": "stderr",
     "output_type": "stream",
     "text": [
      "[nltk_data] Downloading package stopwords to\n",
      "[nltk_data]     C:\\Users\\Weronika\\AppData\\Roaming\\nltk_data...\n",
      "[nltk_data]   Unzipping corpora\\stopwords.zip.\n"
     ]
    },
    {
     "data": {
      "text/plain": [
       "True"
      ]
     },
     "execution_count": 2,
     "metadata": {},
     "output_type": "execute_result"
    }
   ],
   "source": [
    "nltk.download(\"stopwords\")"
   ]
  },
  {
   "cell_type": "code",
   "execution_count": 4,
   "metadata": {},
   "outputs": [
    {
     "data": {
      "text/html": [
       "<div>\n",
       "<style scoped>\n",
       "    .dataframe tbody tr th:only-of-type {\n",
       "        vertical-align: middle;\n",
       "    }\n",
       "\n",
       "    .dataframe tbody tr th {\n",
       "        vertical-align: top;\n",
       "    }\n",
       "\n",
       "    .dataframe thead th {\n",
       "        text-align: right;\n",
       "    }\n",
       "</style>\n",
       "<table border=\"1\" class=\"dataframe\">\n",
       "  <thead>\n",
       "    <tr style=\"text-align: right;\">\n",
       "      <th></th>\n",
       "      <th>index</th>\n",
       "      <th>id</th>\n",
       "      <th>title</th>\n",
       "      <th>author</th>\n",
       "      <th>text</th>\n",
       "      <th>label</th>\n",
       "    </tr>\n",
       "  </thead>\n",
       "  <tbody>\n",
       "    <tr>\n",
       "      <th>0</th>\n",
       "      <td>0</td>\n",
       "      <td>0</td>\n",
       "      <td>House Dem Aide: We Didn’t Even See Comey’s Let...</td>\n",
       "      <td>Darrell Lucus</td>\n",
       "      <td>House Dem Aide: We Didn’t Even See Comey’s Let...</td>\n",
       "      <td>1</td>\n",
       "    </tr>\n",
       "    <tr>\n",
       "      <th>1</th>\n",
       "      <td>1</td>\n",
       "      <td>1</td>\n",
       "      <td>FLYNN: Hillary Clinton, Big Woman on Campus - ...</td>\n",
       "      <td>Daniel J. Flynn</td>\n",
       "      <td>Ever get the feeling your life circles the rou...</td>\n",
       "      <td>0</td>\n",
       "    </tr>\n",
       "    <tr>\n",
       "      <th>2</th>\n",
       "      <td>2</td>\n",
       "      <td>2</td>\n",
       "      <td>Why the Truth Might Get You Fired</td>\n",
       "      <td>Consortiumnews.com</td>\n",
       "      <td>Why the Truth Might Get You Fired October 29, ...</td>\n",
       "      <td>1</td>\n",
       "    </tr>\n",
       "    <tr>\n",
       "      <th>3</th>\n",
       "      <td>3</td>\n",
       "      <td>3</td>\n",
       "      <td>15 Civilians Killed In Single US Airstrike Hav...</td>\n",
       "      <td>Jessica Purkiss</td>\n",
       "      <td>Videos 15 Civilians Killed In Single US Airstr...</td>\n",
       "      <td>1</td>\n",
       "    </tr>\n",
       "    <tr>\n",
       "      <th>4</th>\n",
       "      <td>4</td>\n",
       "      <td>4</td>\n",
       "      <td>Iranian woman jailed for fictional unpublished...</td>\n",
       "      <td>Howard Portnoy</td>\n",
       "      <td>Print \\nAn Iranian woman has been sentenced to...</td>\n",
       "      <td>1</td>\n",
       "    </tr>\n",
       "    <tr>\n",
       "      <th>5</th>\n",
       "      <td>5</td>\n",
       "      <td>5</td>\n",
       "      <td>Jackie Mason: Hollywood Would Love Trump if He...</td>\n",
       "      <td>Daniel Nussbaum</td>\n",
       "      <td>In these trying times, Jackie Mason is the Voi...</td>\n",
       "      <td>0</td>\n",
       "    </tr>\n",
       "    <tr>\n",
       "      <th>6</th>\n",
       "      <td>7</td>\n",
       "      <td>7</td>\n",
       "      <td>Benoît Hamon Wins French Socialist Party’s Pre...</td>\n",
       "      <td>Alissa J. Rubin</td>\n",
       "      <td>PARIS  —   France chose an idealistic, traditi...</td>\n",
       "      <td>0</td>\n",
       "    </tr>\n",
       "    <tr>\n",
       "      <th>7</th>\n",
       "      <td>9</td>\n",
       "      <td>9</td>\n",
       "      <td>A Back-Channel Plan for Ukraine and Russia, Co...</td>\n",
       "      <td>Megan Twohey and Scott Shane</td>\n",
       "      <td>A week before Michael T. Flynn resigned as nat...</td>\n",
       "      <td>0</td>\n",
       "    </tr>\n",
       "    <tr>\n",
       "      <th>8</th>\n",
       "      <td>10</td>\n",
       "      <td>10</td>\n",
       "      <td>Obama’s Organizing for Action Partners with So...</td>\n",
       "      <td>Aaron Klein</td>\n",
       "      <td>Organizing for Action, the activist group that...</td>\n",
       "      <td>0</td>\n",
       "    </tr>\n",
       "    <tr>\n",
       "      <th>9</th>\n",
       "      <td>11</td>\n",
       "      <td>11</td>\n",
       "      <td>BBC Comedy Sketch \"Real Housewives of ISIS\" Ca...</td>\n",
       "      <td>Chris Tomlinson</td>\n",
       "      <td>The BBC produced spoof on the “Real Housewives...</td>\n",
       "      <td>0</td>\n",
       "    </tr>\n",
       "  </tbody>\n",
       "</table>\n",
       "</div>"
      ],
      "text/plain": [
       "   index  id                                              title  \\\n",
       "0      0   0  House Dem Aide: We Didn’t Even See Comey’s Let...   \n",
       "1      1   1  FLYNN: Hillary Clinton, Big Woman on Campus - ...   \n",
       "2      2   2                  Why the Truth Might Get You Fired   \n",
       "3      3   3  15 Civilians Killed In Single US Airstrike Hav...   \n",
       "4      4   4  Iranian woman jailed for fictional unpublished...   \n",
       "5      5   5  Jackie Mason: Hollywood Would Love Trump if He...   \n",
       "6      7   7  Benoît Hamon Wins French Socialist Party’s Pre...   \n",
       "7      9   9  A Back-Channel Plan for Ukraine and Russia, Co...   \n",
       "8     10  10  Obama’s Organizing for Action Partners with So...   \n",
       "9     11  11  BBC Comedy Sketch \"Real Housewives of ISIS\" Ca...   \n",
       "\n",
       "                         author  \\\n",
       "0                 Darrell Lucus   \n",
       "1               Daniel J. Flynn   \n",
       "2            Consortiumnews.com   \n",
       "3               Jessica Purkiss   \n",
       "4                Howard Portnoy   \n",
       "5               Daniel Nussbaum   \n",
       "6               Alissa J. Rubin   \n",
       "7  Megan Twohey and Scott Shane   \n",
       "8                   Aaron Klein   \n",
       "9               Chris Tomlinson   \n",
       "\n",
       "                                                text  label  \n",
       "0  House Dem Aide: We Didn’t Even See Comey’s Let...      1  \n",
       "1  Ever get the feeling your life circles the rou...      0  \n",
       "2  Why the Truth Might Get You Fired October 29, ...      1  \n",
       "3  Videos 15 Civilians Killed In Single US Airstr...      1  \n",
       "4  Print \\nAn Iranian woman has been sentenced to...      1  \n",
       "5  In these trying times, Jackie Mason is the Voi...      0  \n",
       "6  PARIS  —   France chose an idealistic, traditi...      0  \n",
       "7  A week before Michael T. Flynn resigned as nat...      0  \n",
       "8  Organizing for Action, the activist group that...      0  \n",
       "9  The BBC produced spoof on the “Real Housewives...      0  "
      ]
     },
     "execution_count": 4,
     "metadata": {},
     "output_type": "execute_result"
    }
   ],
   "source": [
    "df = pd.read_csv(\"data/fake-news-train.csv\")\n",
    "df.dropna(inplace=True)\n",
    "df.reset_index(inplace=True)\n",
    "df.head(10)"
   ]
  },
  {
   "cell_type": "code",
   "execution_count": 5,
   "metadata": {},
   "outputs": [],
   "source": [
    "X = df[\"title\"]\n",
    "y = df[\"label\"]"
   ]
  },
  {
   "cell_type": "code",
   "execution_count": 8,
   "metadata": {},
   "outputs": [],
   "source": [
    "ps = PorterStemmer()\n",
    "corpus = []\n",
    "\n",
    "for i in range(len(X)):\n",
    "    text = X[i]\n",
    "    text = re.sub('[^a-zA-Z]', ' ', text) # replace everything that's not an alphabet by a space\n",
    "    text = text.lower()\n",
    "    text = text.split()\n",
    "    text = [ps.stem(t) for t in text if t not in stopwords.words(\"english\")]\n",
    "    corpus.append(' '.join(text))"
   ]
  },
  {
   "cell_type": "code",
   "execution_count": 9,
   "metadata": {},
   "outputs": [
    {
     "data": {
      "text/plain": [
       "array([   0,    0,    0,    0,    0,    0,    0,    0,    0,    0, 2183,\n",
       "       1584,  111, 3746, 4979,  946, 3462, 4759, 4680,   21])"
      ]
     },
     "execution_count": 9,
     "metadata": {},
     "output_type": "execute_result"
    }
   ],
   "source": [
    "vocab_size = 5_000\n",
    "sent_len = 20\n",
    "\n",
    "# encode text data to numerical data\n",
    "# assign a random number using hashing to the word.\n",
    "# the random word is chosen from the range 0-vocab_size\n",
    "one_hot_encoded = [one_hot(x, vocab_size) for x in corpus]\n",
    "\n",
    "# pad the sentences with 0s to make every line of the same length\n",
    "one_hot_encoded = pad_sequences(one_hot_encoded, maxlen=sent_len)\n",
    "one_hot_encoded[0]"
   ]
  },
  {
   "cell_type": "code",
   "execution_count": 10,
   "metadata": {},
   "outputs": [],
   "source": [
    "X = np.array(one_hot_encoded)\n",
    "y = np.array(y)\n",
    "X_train, X_test, y_train, y_test = train_test_split(X, y, test_size=0.33, random_state=2021)"
   ]
  },
  {
   "cell_type": "code",
   "execution_count": 12,
   "metadata": {},
   "outputs": [
    {
     "name": "stdout",
     "output_type": "stream",
     "text": [
      "Model: \"sequential\"\n",
      "_________________________________________________________________\n",
      "Layer (type)                 Output Shape              Param #   \n",
      "=================================================================\n",
      "embedding (Embedding)        (None, 20, 40)            200000    \n",
      "_________________________________________________________________\n",
      "dropout (Dropout)            (None, 20, 40)            0         \n",
      "_________________________________________________________________\n",
      "lstm (LSTM)                  (None, 100)               56400     \n",
      "_________________________________________________________________\n",
      "dropout_1 (Dropout)          (None, 100)               0         \n",
      "_________________________________________________________________\n",
      "dense (Dense)                (None, 1)                 101       \n",
      "=================================================================\n",
      "Total params: 256,501\n",
      "Trainable params: 256,501\n",
      "Non-trainable params: 0\n",
      "_________________________________________________________________\n"
     ]
    }
   ],
   "source": [
    "no_of_output_features = 40\n",
    "\n",
    "model = Sequential([\n",
    "    Embedding(vocab_size, no_of_output_features, input_length=sent_len),\n",
    "    Dropout(0.5),\n",
    "    LSTM(100),\n",
    "    Dropout(0.5),\n",
    "    Dense(1)\n",
    "])\n",
    "\n",
    "model.compile(optimizer=\"adam\", loss=\"binary_crossentropy\", metrics=[\"accuracy\"])\n",
    "model.summary()"
   ]
  },
  {
   "cell_type": "code",
   "execution_count": 14,
   "metadata": {},
   "outputs": [],
   "source": [
    "from tensorflow.keras.callbacks import EarlyStopping\n",
    "\n",
    "callback = EarlyStopping(monitor=\"loss\", patience=5)"
   ]
  },
  {
   "cell_type": "code",
   "execution_count": 15,
   "metadata": {},
   "outputs": [
    {
     "name": "stdout",
     "output_type": "stream",
     "text": [
      "Epoch 1/80\n",
      "192/192 [==============================] - 55s 33ms/step - loss: 0.4397 - accuracy: 0.8028 - val_loss: 0.2559 - val_accuracy: 0.9006\n",
      "Epoch 2/80\n",
      "192/192 [==============================] - 3s 16ms/step - loss: 0.2319 - accuracy: 0.9200 - val_loss: 0.2407 - val_accuracy: 0.9180\n",
      "Epoch 3/80\n",
      "192/192 [==============================] - 3s 15ms/step - loss: 0.2035 - accuracy: 0.9380 - val_loss: 0.3621 - val_accuracy: 0.9213\n",
      "Epoch 4/80\n",
      "192/192 [==============================] - 3s 14ms/step - loss: 0.2008 - accuracy: 0.9377 - val_loss: 0.3338 - val_accuracy: 0.9150\n",
      "Epoch 5/80\n",
      "192/192 [==============================] - 3s 15ms/step - loss: 0.1678 - accuracy: 0.9536 - val_loss: 0.4265 - val_accuracy: 0.9190\n",
      "Epoch 6/80\n",
      "192/192 [==============================] - 2s 13ms/step - loss: 0.1491 - accuracy: 0.9654 - val_loss: 0.4576 - val_accuracy: 0.9180\n",
      "Epoch 7/80\n",
      "192/192 [==============================] - 3s 15ms/step - loss: 0.1537 - accuracy: 0.9601 - val_loss: 0.4771 - val_accuracy: 0.9173\n",
      "Epoch 8/80\n",
      "192/192 [==============================] - 3s 13ms/step - loss: 0.1606 - accuracy: 0.9638 - val_loss: 0.5377 - val_accuracy: 0.9211\n",
      "Epoch 9/80\n",
      "192/192 [==============================] - 3s 15ms/step - loss: 0.1330 - accuracy: 0.9744 - val_loss: 0.6883 - val_accuracy: 0.8774\n",
      "Epoch 10/80\n",
      "192/192 [==============================] - 2s 13ms/step - loss: 0.1159 - accuracy: 0.9775 - val_loss: 0.5432 - val_accuracy: 0.9160\n",
      "Epoch 11/80\n",
      "192/192 [==============================] - 3s 16ms/step - loss: 0.1169 - accuracy: 0.9772 - val_loss: 0.5718 - val_accuracy: 0.9099\n",
      "Epoch 12/80\n",
      "192/192 [==============================] - 3s 18ms/step - loss: 0.1296 - accuracy: 0.9720 - val_loss: 0.6590 - val_accuracy: 0.9223\n",
      "Epoch 13/80\n",
      "192/192 [==============================] - 3s 16ms/step - loss: 0.1843 - accuracy: 0.9669 - val_loss: 0.5843 - val_accuracy: 0.9094\n",
      "Epoch 14/80\n",
      "192/192 [==============================] - 3s 14ms/step - loss: 0.1359 - accuracy: 0.9700 - val_loss: 0.5782 - val_accuracy: 0.9122\n",
      "Epoch 15/80\n",
      "192/192 [==============================] - 3s 14ms/step - loss: 0.0896 - accuracy: 0.9833 - val_loss: 0.6321 - val_accuracy: 0.9163\n",
      "Epoch 16/80\n",
      "192/192 [==============================] - 3s 15ms/step - loss: 0.0818 - accuracy: 0.9856 - val_loss: 0.6692 - val_accuracy: 0.9188\n",
      "Epoch 17/80\n",
      "192/192 [==============================] - 3s 18ms/step - loss: 0.0780 - accuracy: 0.9888 - val_loss: 0.6663 - val_accuracy: 0.9162\n",
      "Epoch 18/80\n",
      "192/192 [==============================] - 4s 19ms/step - loss: 0.0735 - accuracy: 0.9896 - val_loss: 0.7242 - val_accuracy: 0.9188\n",
      "Epoch 19/80\n",
      "192/192 [==============================] - 4s 22ms/step - loss: 0.0708 - accuracy: 0.9919 - val_loss: 0.7588 - val_accuracy: 0.9170\n",
      "Epoch 20/80\n",
      "192/192 [==============================] - 4s 20ms/step - loss: 0.0746 - accuracy: 0.9904 - val_loss: 0.7719 - val_accuracy: 0.9128\n",
      "Epoch 21/80\n",
      "192/192 [==============================] - 4s 20ms/step - loss: 0.0622 - accuracy: 0.9920 - val_loss: 0.7838 - val_accuracy: 0.9195\n",
      "Epoch 22/80\n",
      "192/192 [==============================] - 4s 20ms/step - loss: 0.0627 - accuracy: 0.9925 - val_loss: 0.8138 - val_accuracy: 0.9168\n",
      "Epoch 23/80\n",
      "192/192 [==============================] - 4s 19ms/step - loss: 0.0645 - accuracy: 0.9927 - val_loss: 0.8342 - val_accuracy: 0.9175\n",
      "Epoch 24/80\n",
      "192/192 [==============================] - 4s 19ms/step - loss: 0.0645 - accuracy: 0.9910 - val_loss: 0.8289 - val_accuracy: 0.9160\n",
      "Epoch 25/80\n",
      "192/192 [==============================] - 4s 22ms/step - loss: 0.0589 - accuracy: 0.9926 - val_loss: 0.8347 - val_accuracy: 0.9150\n",
      "Epoch 26/80\n",
      "192/192 [==============================] - 4s 19ms/step - loss: 0.0552 - accuracy: 0.9943 - val_loss: 0.8689 - val_accuracy: 0.9118\n",
      "Epoch 27/80\n",
      "192/192 [==============================] - 3s 14ms/step - loss: 0.0547 - accuracy: 0.9936 - val_loss: 0.8257 - val_accuracy: 0.9171\n",
      "Epoch 28/80\n",
      "192/192 [==============================] - 3s 16ms/step - loss: 0.0539 - accuracy: 0.9954 - val_loss: 0.8553 - val_accuracy: 0.9155\n",
      "Epoch 29/80\n",
      "192/192 [==============================] - 3s 15ms/step - loss: 0.0564 - accuracy: 0.9943 - val_loss: 0.8972 - val_accuracy: 0.9173\n",
      "Epoch 30/80\n",
      "192/192 [==============================] - 3s 16ms/step - loss: 0.0530 - accuracy: 0.9953 - val_loss: 0.9498 - val_accuracy: 0.9118\n",
      "Epoch 31/80\n",
      "192/192 [==============================] - 3s 15ms/step - loss: 0.0559 - accuracy: 0.9944 - val_loss: 0.9862 - val_accuracy: 0.9132\n",
      "Epoch 32/80\n",
      "192/192 [==============================] - 4s 19ms/step - loss: 0.0545 - accuracy: 0.9946 - val_loss: 0.9961 - val_accuracy: 0.9085\n",
      "Epoch 33/80\n",
      "192/192 [==============================] - 4s 19ms/step - loss: 0.1058 - accuracy: 0.9882 - val_loss: 0.9139 - val_accuracy: 0.9140\n",
      "Epoch 34/80\n",
      "192/192 [==============================] - 4s 19ms/step - loss: 0.1414 - accuracy: 0.9810 - val_loss: 0.9833 - val_accuracy: 0.9079\n",
      "Epoch 35/80\n",
      "192/192 [==============================] - 4s 21ms/step - loss: 0.0690 - accuracy: 0.9915 - val_loss: 0.9610 - val_accuracy: 0.9143\n"
     ]
    }
   ],
   "source": [
    "his = model.fit(X_train, y_train, validation_data=(X_test, y_test), batch_size=64, \n",
    "                epochs=80, callbacks=[callback])"
   ]
  },
  {
   "cell_type": "code",
   "execution_count": 18,
   "metadata": {},
   "outputs": [
    {
     "data": {
      "image/png": "[encoded data removed]",
      "text/plain": [
       "<Figure size 432x288 with 1 Axes>"
      ]
     },
     "metadata": {
      "needs_background": "light"
     },
     "output_type": "display_data"
    }
   ],
   "source": [
    "import matplotlib.pyplot as plt\n",
    "\n",
    "plt.plot(his.history[\"loss\"])\n",
    "plt.plot(his.history[\"val_loss\"])\n",
    "plt.show()"
   ]
  },
  {
   "cell_type": "markdown",
   "metadata": {},
   "source": [
    "## CLEARLY UNDERFITTING"
   ]
  },
  {
   "cell_type": "code",
   "execution_count": 19,
   "metadata": {},
   "outputs": [
    {
     "data": {
      "image/png": "[encoded data removed]",
      "text/plain": [
       "<Figure size 432x288 with 1 Axes>"
      ]
     },
     "metadata": {
      "needs_background": "light"
     },
     "output_type": "display_data"
    }
   ],
   "source": [
    "plt.plot(his.history[\"accuracy\"])\n",
    "plt.plot(his.history[\"val_accuracy\"])\n",
    "plt.show()"
   ]
  },
  {
   "cell_type": "code",
   "execution_count": 20,
   "metadata": {},
   "outputs": [
    {
     "name": "stderr",
     "output_type": "stream",
     "text": [
      "R:\\Work\\Anacond\\lib\\site-packages\\tensorflow\\python\\keras\\engine\\sequential.py:455: UserWarning: `model.predict_classes()` is deprecated and will be removed after 2021-01-01. Please use instead:* `np.argmax(model.predict(x), axis=-1)`,   if your model does multi-class classification   (e.g. if it uses a `softmax` last-layer activation).* `(model.predict(x) > 0.5).astype(\"int32\")`,   if your model does binary classification   (e.g. if it uses a `sigmoid` last-layer activation).\n",
      "  warnings.warn('`model.predict_classes()` is deprecated and '\n"
     ]
    },
    {
     "data": {
      "text/plain": [
       "array([[3139,  255],\n",
       "       [ 262, 2379]], dtype=int64)"
      ]
     },
     "execution_count": 20,
     "metadata": {},
     "output_type": "execute_result"
    }
   ],
   "source": [
    "pred = model.predict_classes(X_test)\n",
    "confusion_matrix(y_test, pred)"
   ]
  },
  {
   "cell_type": "code",
   "execution_count": 26,
   "metadata": {},
   "outputs": [
    {
     "data": {
      "text/plain": [
       "<matplotlib.axes._subplots.AxesSubplot at 0x17bc59ecd08>"
      ]
     },
     "execution_count": 26,
     "metadata": {},
     "output_type": "execute_result"
    },
    {
     "data": {
      "image/png": "[encoded data removed]",
      "text/plain": [
       "<Figure size 432x288 with 2 Axes>"
      ]
     },
     "metadata": {
      "needs_background": "light"
     },
     "output_type": "display_data"
    }
   ],
   "source": [
    "import seaborn as sns\n",
    "\n",
    "sns.heatmap(confusion_matrix(y_test, pred), annot=True, fmt=\".0f\")"
   ]
  },
  {
   "cell_type": "code",
   "execution_count": 27,
   "metadata": {},
   "outputs": [
    {
     "data": {
      "text/plain": [
       "0.9143330571665286"
      ]
     },
     "execution_count": 27,
     "metadata": {},
     "output_type": "execute_result"
    }
   ],
   "source": [
    "accuracy_score(y_test, pred)"
   ]
  },
  {
   "cell_type": "code",
   "execution_count": null,
   "metadata": {},
   "outputs": [],
   "source": []
  }
 ],
 "metadata": {
  "kernelspec": {
   "display_name": "Python 3",
   "language": "python",
   "name": "python3"
  },
  "language_info": {
   "codemirror_mode": {
    "name": "ipython",
    "version": 3
   },
   "file_extension": ".py",
   "mimetype": "text/x-python",
   "name": "python",
   "nbconvert_exporter": "python",
   "pygments_lexer": "ipython3",
   "version": "3.7.6"
  }
 },
 "nbformat": 4,
 "nbformat_minor": 4
}
