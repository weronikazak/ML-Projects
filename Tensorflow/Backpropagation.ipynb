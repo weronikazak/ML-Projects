{
 "cells": [
  {
   "cell_type": "markdown",
   "metadata": {},
   "source": [
    "## How does Backpropagation work?\n",
    "\n",
    "1. Inputs are fed into a NN\n",
    "2. Inputs are then modelled using actual weights. The weights are usually randomly selected.\n",
    "3. The output for every neuron from the input layer to the hidden layers to the output layer is the calculated.\n",
    "4. Backtracking is done from the output tlayer to the hidden layers to adjut the weights such that the error is decreased (cost function is minimized)."
   ]
  },
  {
   "cell_type": "markdown",
   "metadata": {},
   "source": [
    "## Wdy do we need backpropagation?\n",
    "\n",
    "It reduces error and increases accuracy."
   ]
  },
  {
   "cell_type": "markdown",
   "metadata": {},
   "source": [
    "## What is backpropagation?\n",
    "Backprop is very much a reason why neural network training works.\n",
    "\n",
    "It is a method of optimizing the weights of neural network based in the cost function obtained in the previous epoch (iteration). Proper tuning of these weights allows us to reduce error and make the model reliable by increasing its accuracy."
   ]
  },
  {
   "cell_type": "markdown",
   "metadata": {},
   "source": [
    "## What are the advantages of backpropagation?\n",
    "The advantages of backpropagation are as follows:\n",
    "- It’s fast, simple, and easy to program\n",
    "- It has no parameters to tune apart from the number of inputs\n",
    "- It is a flexible method as it does not require prior knowledge about the network\n",
    "- It is a standard method that generally works well\n",
    "- It does not need any special mention of the features of the function to be learned."
   ]
  },
  {
   "cell_type": "markdown",
   "metadata": {},
   "source": [
    "https://analyticsarora.com/8-unique-machine-learning-interview-questions-on-backpropagation/"
   ]
  },
  {
   "cell_type": "code",
   "execution_count": null,
   "metadata": {},
   "outputs": [],
   "source": []
  }
 ],
 "metadata": {
  "kernelspec": {
   "display_name": "Python 3",
   "language": "python",
   "name": "python3"
  },
  "language_info": {
   "codemirror_mode": {
    "name": "ipython",
    "version": 3
   },
   "file_extension": ".py",
   "mimetype": "text/x-python",
   "name": "python",
   "nbconvert_exporter": "python",
   "pygments_lexer": "ipython3",
   "version": "3.7.6"
  }
 },
 "nbformat": 4,
 "nbformat_minor": 4
}
