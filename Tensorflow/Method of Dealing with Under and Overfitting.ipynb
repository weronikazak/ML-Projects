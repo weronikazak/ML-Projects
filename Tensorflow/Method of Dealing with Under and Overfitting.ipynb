{
 "cells": [
  {
   "cell_type": "markdown",
   "metadata": {},
   "source": [
    "https://curiousily.com/posts/hackers-guide-to-fixing-underfitting-and-overfitting-models/"
   ]
  },
  {
   "cell_type": "markdown",
   "metadata": {},
   "source": [
    "## Underfitting:\n",
    "\n",
    "- bigger neural network (add new layers or increase number of neurons in existing layers)\n",
    "- train model a little bit longer\n",
    "\n",
    "Why does he give such advice? An underfitting neural network may be not powerful enough to capture the patterns in the training dataset. In this case, adding more layers or increasing the number of neurons may help overcome the problem.\n",
    "\n",
    "Increasing the training time is advised because it is possible that the underperforming model has not found the most optimal values of its parameters yet."
   ]
  },
  {
   "cell_type": "markdown",
   "metadata": {},
   "source": [
    "## Overfitting\n",
    "- more data (data augumentation)\n",
    "- regularization (L1 and L@ penalize too complex models, dropout) \n",
    "- early stopping"
   ]
  },
  {
   "cell_type": "markdown",
   "metadata": {},
   "source": [
    "https://www.mikulskibartosz.name/how-to-deal-with-underfitting-and-overfitting-in-deep-learning/"
   ]
  },
  {
   "cell_type": "code",
   "execution_count": null,
   "metadata": {},
   "outputs": [],
   "source": []
  }
 ],
 "metadata": {
  "kernelspec": {
   "display_name": "Python 3",
   "language": "python",
   "name": "python3"
  },
  "language_info": {
   "codemirror_mode": {
    "name": "ipython",
    "version": 3
   },
   "file_extension": ".py",
   "mimetype": "text/x-python",
   "name": "python",
   "nbconvert_exporter": "python",
   "pygments_lexer": "ipython3",
   "version": "3.7.6"
  }
 },
 "nbformat": 4,
 "nbformat_minor": 4
}
