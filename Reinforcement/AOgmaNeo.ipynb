{
 "cells": [
  {
   "cell_type": "code",
   "execution_count": 1,
   "source": [
    "import pyaogmaneo as neo \r\n",
    "import gym\r\n",
    "import numpy as np"
   ],
   "outputs": [],
   "metadata": {}
  },
  {
   "cell_type": "code",
   "execution_count": 2,
   "source": [
    "env = gym.make(\"CartPole-v1\")\r\n",
    "s = env.reset()"
   ],
   "outputs": [],
   "metadata": {}
  },
  {
   "cell_type": "code",
   "execution_count": 3,
   "source": [
    "def sigmoid(x):\r\n",
    "    return np.tanh(x) * .5 + .5"
   ],
   "outputs": [],
   "metadata": {}
  },
  {
   "cell_type": "code",
   "execution_count": 4,
   "source": [
    "class ScalarEncoder:\r\n",
    "    def __init__(self, num_scalers, num_columns, cells_per_column, lower_bound = 0., upper_bound=1.):\r\n",
    "        self.num_scalers = num_scalers\r\n",
    "        self.num_columns = num_columns\r\n",
    "        self.cells_per_column = cells_per_column\r\n",
    "\r\n",
    "        self.protos = []\r\n",
    "\r\n",
    "        for _ in range(self.num_columns):\r\n",
    "            self.protos.append(np.random.rand(cells_per_column, num_scalers))\r\n",
    "    \r\n",
    "    def encode(self, scalars):\r\n",
    "        csdr = []\r\n",
    "        for i in range(len(self.protos)):\r\n",
    "            acts = -np.sum(np.square(np.repeat(scalars.T, self.cells_per_column, axis=0) - self.protos[i]), axis= 1)\r\n",
    "            csdr.append((np.argmax(acts)).item())\r\n",
    "\r\n",
    "        return csdr"
   ],
   "outputs": [],
   "metadata": {}
  },
  {
   "cell_type": "code",
   "execution_count": 5,
   "source": [
    "numActions = env.action_space.n\r\n",
    "numObservations = np.array(env.observation_space.shape).prod()"
   ],
   "outputs": [],
   "metadata": {}
  },
  {
   "cell_type": "code",
   "execution_count": 6,
   "source": [
    "numObservations"
   ],
   "outputs": [
    {
     "output_type": "execute_result",
     "data": {
      "text/plain": [
       "4"
      ]
     },
     "metadata": {},
     "execution_count": 6
    }
   ],
   "metadata": {}
  },
  {
   "cell_type": "code",
   "execution_count": 7,
   "source": [
    "numActions"
   ],
   "outputs": [
    {
     "output_type": "execute_result",
     "data": {
      "text/plain": [
       "2"
      ]
     },
     "metadata": {},
     "execution_count": 7
    }
   ],
   "metadata": {}
  },
  {
   "cell_type": "code",
   "execution_count": 8,
   "source": [
    "scalarencoder = ScalarEncoder(numObservations, 16, 64)"
   ],
   "outputs": [],
   "metadata": {}
  },
  {
   "cell_type": "code",
   "execution_count": 9,
   "source": [
    "neo.setNumThreads(6)"
   ],
   "outputs": [],
   "metadata": {}
  },
  {
   "cell_type": "code",
   "execution_count": 10,
   "source": [
    "lds = []\r\n"
   ],
   "outputs": [],
   "metadata": {}
  },
  {
   "cell_type": "code",
   "execution_count": 11,
   "source": [
    "for i in range(6):\r\n",
    "    ld = neo.LayerDesc(hiddenSize=(4, 4, 32))\r\n",
    "    ld.eRadius = 2\r\n",
    "    ld.dRadius = 2\r\n",
    "    lds.append(ld)"
   ],
   "outputs": [],
   "metadata": {}
  },
  {
   "cell_type": "code",
   "execution_count": 18,
   "source": [
    "h = neo.Hierarchy()"
   ],
   "outputs": [],
   "metadata": {}
  },
  {
   "cell_type": "code",
   "execution_count": 19,
   "source": [
    "h.initRandom([\r\n",
    "    neo.IODesc((4, 4, 64), neo.prediction, eRadius = 2, dRadius=2), \r\n",
    "    neo.IODesc((1, 1, numActions), neo.action, eRadius= 0, dRadius=2, historyCapacity=64)\r\n",
    "], lds)"
   ],
   "outputs": [],
   "metadata": {}
  },
  {
   "cell_type": "code",
   "execution_count": 20,
   "source": [
    "h.setAVLR(1, 0.01)\r\n",
    "h.setAALR(1, 0.01)\r\n",
    "h.setADiscount(1, 0.99)\r\n",
    "h.setAMinSteps(1, 16)\r\n",
    "h.setAHistoryIters(1, 16)\r\n"
   ],
   "outputs": [],
   "metadata": {}
  },
  {
   "cell_type": "code",
   "execution_count": 21,
   "source": [
    "reward = 0. \r\n",
    "action = 0"
   ],
   "outputs": [],
   "metadata": {}
  },
  {
   "cell_type": "code",
   "execution_count": 22,
   "source": [
    "env.action_space.sample()"
   ],
   "outputs": [
    {
     "output_type": "execute_result",
     "data": {
      "text/plain": [
       "0"
      ]
     },
     "metadata": {},
     "execution_count": 22
    }
   ],
   "metadata": {}
  },
  {
   "cell_type": "code",
   "execution_count": 23,
   "source": [
    "env = gym.wrappers.RecordEpisodeStatistics(env)\r\n",
    "\r\n",
    "full_rewards = []\r\n",
    "for episode in range(150):\r\n",
    "    obs = env.reset()\r\n",
    "    #episode_rewards=0\r\n",
    "    for t in range(300):\r\n",
    "        csdr = scalarencoder.encode(sigmoid(np.matrix(obs).T * 4.0))\r\n",
    "\r\n",
    "        h.step([csdr, [action]], True, reward)\r\n",
    "\r\n",
    "        action = h.getPredictionCIs(1)[0]\r\n",
    "        obs , reward, done, info = env.step(action)\r\n",
    "        reward += obs[0]**2\r\n",
    "        #episode_rewards += reward\r\n",
    "        if done:\r\n",
    "            reward = -100\r\n",
    "            full_rewards.append(info['episode']['r'])\r\n",
    "            if episode%10==0:\r\n",
    "                print(f\"Episode ended {episode+1}, Reward : {info['episode']['r']}. \")\r\n",
    "            break\r\n",
    "        else:\r\n",
    "            reward = 0.0"
   ],
   "outputs": [
    {
     "output_type": "stream",
     "name": "stdout",
     "text": [
      "Episode ended 1, Reward : 13.0. \n",
      "Episode ended 11, Reward : 15.0. \n",
      "Episode ended 21, Reward : 59.0. \n",
      "Episode ended 31, Reward : 58.0. \n",
      "Episode ended 41, Reward : 47.0. \n",
      "Episode ended 51, Reward : 37.0. \n",
      "Episode ended 61, Reward : 81.0. \n",
      "Episode ended 71, Reward : 86.0. \n",
      "Episode ended 81, Reward : 169.0. \n",
      "Episode ended 91, Reward : 128.0. \n",
      "Episode ended 101, Reward : 62.0. \n",
      "Episode ended 111, Reward : 144.0. \n",
      "Episode ended 121, Reward : 139.0. \n"
     ]
    }
   ],
   "metadata": {}
  },
  {
   "cell_type": "code",
   "execution_count": 24,
   "source": [
    "import matplotlib.pyplot as plt"
   ],
   "outputs": [],
   "metadata": {}
  },
  {
   "cell_type": "code",
   "execution_count": 25,
   "source": [
    "plt.plot(full_rewards)\r\n",
    "plt.show()"
   ],
   "outputs": [
    {
     "output_type": "display_data",
     "data": {
      "image/png": "[encoded data removed]",
      "text/plain": [
       "<Figure size 640x480 with 1 Axes>"
      ]
     },
     "metadata": {}
    }
   ],
   "metadata": {}
  },
  {
   "cell_type": "code",
   "execution_count": null,
   "source": [],
   "outputs": [],
   "metadata": {}
  }
 ],
 "metadata": {
  "orig_nbformat": 4,
  "language_info": {
   "name": "python",
   "version": "3.7.0",
   "mimetype": "text/x-python",
   "codemirror_mode": {
    "name": "ipython",
    "version": 3
   },
   "pygments_lexer": "ipython3",
   "nbconvert_exporter": "python",
   "file_extension": ".py"
  },
  "kernelspec": {
   "name": "python3",
   "display_name": "Python 3.7.0 64-bit ('pt': conda)"
  },
  "interpreter": {
   "hash": "3d4956c57279bd4ae04d08cf3e6a2ba944c33a98e58dfe6dac95317a5434265e"
  }
 },
 "nbformat": 4,
 "nbformat_minor": 2
}